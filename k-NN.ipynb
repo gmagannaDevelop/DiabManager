{
 "cells": [
  {
   "cell_type": "code",
   "execution_count": 13,
   "metadata": {},
   "outputs": [],
   "source": [
    "from sklearn.neighbors import NearestNeighbors\n",
    "from sklearn.neighbors import KDTree\n",
    "import numpy as np\n",
    "from sklearn import preprocessing\n",
    "# parsing and preprocessing :\n",
    "import gmparser as parse"
   ]
  },
  {
   "cell_type": "code",
   "execution_count": 4,
   "metadata": {},
   "outputs": [],
   "source": [
    "data, encoded_data,X,y= parse.main()"
   ]
  },
  {
   "cell_type": "code",
   "execution_count": 5,
   "metadata": {},
   "outputs": [],
   "source": [
    "X2=preprocessing.scale(X)"
   ]
  },
  {
   "cell_type": "code",
   "execution_count": 7,
   "metadata": {},
   "outputs": [],
   "source": [
    "nbrs=NearestNeighbors(n_neighbors=2, algorithm='ball_tree').fit(X)"
   ]
  },
  {
   "cell_type": "code",
   "execution_count": 8,
   "metadata": {},
   "outputs": [],
   "source": [
    "distances,indices=nbrs.kneighbors(X)"
   ]
  },
  {
   "cell_type": "code",
   "execution_count": 9,
   "metadata": {},
   "outputs": [
    {
     "data": {
      "text/plain": [
       "array([[ 0, 24],\n",
       "       [ 1,  7],\n",
       "       [ 2,  3],\n",
       "       [ 3,  2],\n",
       "       [ 4, 36],\n",
       "       [ 5, 10],\n",
       "       [ 6, 11],\n",
       "       [ 7,  1],\n",
       "       [ 8, 15],\n",
       "       [ 9, 17],\n",
       "       [10, 33],\n",
       "       [11, 22],\n",
       "       [12, 35],\n",
       "       [13, 17],\n",
       "       [14, 31],\n",
       "       [15,  8],\n",
       "       [16, 23],\n",
       "       [17,  9],\n",
       "       [18,  1],\n",
       "       [19, 25],\n",
       "       [20, 32],\n",
       "       [21, 32],\n",
       "       [22, 11],\n",
       "       [23, 16],\n",
       "       [24, 19],\n",
       "       [25, 19],\n",
       "       [26, 30],\n",
       "       [27, 25],\n",
       "       [28, 30],\n",
       "       [29, 12],\n",
       "       [30, 26],\n",
       "       [31, 14],\n",
       "       [32, 20],\n",
       "       [33, 10],\n",
       "       [34, 37],\n",
       "       [35, 16],\n",
       "       [36,  4],\n",
       "       [37, 34],\n",
       "       [38,  8]])"
      ]
     },
     "execution_count": 9,
     "metadata": {},
     "output_type": "execute_result"
    }
   ],
   "source": [
    "indices"
   ]
  },
  {
   "cell_type": "code",
   "execution_count": 10,
   "metadata": {},
   "outputs": [
    {
     "data": {
      "text/plain": [
       "array([[ 0.        , 36.28291609],\n",
       "       [ 0.        ,  6.56220237],\n",
       "       [ 0.        ,  3.16227766],\n",
       "       [ 0.        ,  3.16227766],\n",
       "       [ 0.        ,  7.25844336],\n",
       "       [ 0.        , 12.49249775],\n",
       "       [ 0.        , 14.38419271],\n",
       "       [ 0.        ,  6.56220237],\n",
       "       [ 0.        , 12.31909088],\n",
       "       [ 0.        , 16.42926961],\n",
       "       [ 0.        ,  8.56796359],\n",
       "       [ 0.        ,  7.6290563 ],\n",
       "       [ 0.        , 15.28602303],\n",
       "       [ 0.        , 16.45364701],\n",
       "       [ 0.        ,  7.24033839],\n",
       "       [ 0.        , 12.31909088],\n",
       "       [ 0.        ,  6.11228272],\n",
       "       [ 0.        , 16.42926961],\n",
       "       [ 0.        , 13.93735986],\n",
       "       [ 0.        ,  7.41619849],\n",
       "       [ 0.        ,  5.40485893],\n",
       "       [ 0.        , 11.22062832],\n",
       "       [ 0.        ,  7.6290563 ],\n",
       "       [ 0.        ,  6.11228272],\n",
       "       [ 0.        , 18.49540483],\n",
       "       [ 0.        ,  7.41619849],\n",
       "       [ 0.        ,  7.35272058],\n",
       "       [ 0.        , 18.08825586],\n",
       "       [ 0.        , 32.3459812 ],\n",
       "       [ 0.        , 16.03574133],\n",
       "       [ 0.        ,  7.35272058],\n",
       "       [ 0.        ,  7.24033839],\n",
       "       [ 0.        ,  5.40485893],\n",
       "       [ 0.        ,  8.56796359],\n",
       "       [ 0.        ,  8.09706737],\n",
       "       [ 0.        , 15.21742422],\n",
       "       [ 0.        ,  7.25844336],\n",
       "       [ 0.        ,  8.09706737],\n",
       "       [ 0.        , 12.79931639]])"
      ]
     },
     "execution_count": 10,
     "metadata": {},
     "output_type": "execute_result"
    }
   ],
   "source": [
    "distances"
   ]
  },
  {
   "cell_type": "code",
   "execution_count": 11,
   "metadata": {},
   "outputs": [
    {
     "data": {
      "text/plain": [
       "array([[1., 0., 0., ..., 0., 0., 0.],\n",
       "       [0., 1., 0., ..., 0., 0., 0.],\n",
       "       [0., 0., 1., ..., 0., 0., 0.],\n",
       "       ...,\n",
       "       [0., 0., 0., ..., 1., 0., 0.],\n",
       "       [0., 0., 0., ..., 0., 1., 0.],\n",
       "       [0., 0., 0., ..., 0., 0., 1.]])"
      ]
     },
     "execution_count": 11,
     "metadata": {},
     "output_type": "execute_result"
    }
   ],
   "source": [
    "nbrs.kneighbors_graph(X).toarray()"
   ]
  },
  {
   "cell_type": "code",
   "execution_count": 14,
   "metadata": {},
   "outputs": [],
   "source": [
    "kdt = KDTree(X, leaf_size=30, metric='euclidean')"
   ]
  },
  {
   "cell_type": "code",
   "execution_count": 15,
   "metadata": {},
   "outputs": [
    {
     "data": {
      "text/plain": [
       "array([[ 0, 24],\n",
       "       [ 1,  7],\n",
       "       [ 2,  3],\n",
       "       [ 3,  2],\n",
       "       [ 4, 36],\n",
       "       [ 5, 10],\n",
       "       [ 6, 11],\n",
       "       [ 7,  1],\n",
       "       [ 8, 15],\n",
       "       [ 9, 17],\n",
       "       [10, 33],\n",
       "       [11, 22],\n",
       "       [12, 35],\n",
       "       [13, 17],\n",
       "       [14, 31],\n",
       "       [15,  8],\n",
       "       [16, 23],\n",
       "       [17,  9],\n",
       "       [18,  1],\n",
       "       [19, 25],\n",
       "       [20, 32],\n",
       "       [21, 32],\n",
       "       [22, 11],\n",
       "       [23, 16],\n",
       "       [24, 19],\n",
       "       [25, 19],\n",
       "       [26, 30],\n",
       "       [27, 25],\n",
       "       [28, 30],\n",
       "       [29, 12],\n",
       "       [30, 26],\n",
       "       [31, 14],\n",
       "       [32, 20],\n",
       "       [33, 10],\n",
       "       [34, 37],\n",
       "       [35, 16],\n",
       "       [36,  4],\n",
       "       [37, 34],\n",
       "       [38,  8]])"
      ]
     },
     "execution_count": 15,
     "metadata": {},
     "output_type": "execute_result"
    }
   ],
   "source": [
    "kdt.query(X, k=2, return_distance=False) "
   ]
  },
  {
   "cell_type": "code",
   "execution_count": null,
   "metadata": {},
   "outputs": [],
   "source": []
  }
 ],
 "metadata": {
  "kernelspec": {
   "display_name": "Python 3",
   "language": "python",
   "name": "python3"
  },
  "language_info": {
   "codemirror_mode": {
    "name": "ipython",
    "version": 3
   },
   "file_extension": ".py",
   "mimetype": "text/x-python",
   "name": "python",
   "nbconvert_exporter": "python",
   "pygments_lexer": "ipython3",
   "version": "3.6.8"
  }
 },
 "nbformat": 4,
 "nbformat_minor": 2
}
