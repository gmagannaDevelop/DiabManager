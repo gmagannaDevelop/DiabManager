{
 "cells": [
  {
   "cell_type": "code",
   "execution_count": 446,
   "metadata": {},
   "outputs": [],
   "source": [
    "# Needed modules :\n",
    "import os\n",
    "import gc\n",
    "import copy\n",
    "import sklearn\n",
    "\n",
    "import Drive\n",
    "\n",
    "import numpy as np\n",
    "import pandas as pd\n",
    "import seaborn as sb\n",
    "import datetime as dt\n",
    "import matplotlib.pyplot as plt\n",
    "\n",
    "\n",
    "from sys import getsizeof\n",
    "from typing import List, Tuple\n",
    "#from datetime import datetime as dt\n",
    "\n",
    "import Preprocessing as pre\n",
    "from functools import reduce"
   ]
  },
  {
   "cell_type": "code",
   "execution_count": 426,
   "metadata": {},
   "outputs": [],
   "source": [
    "# Function definitions :\n",
    "\n",
    "def time_indexed_df(df1: pd.core.frame.DataFrame) -> pd.core.frame.DataFrame:\n",
    "    \"\"\" Take a return a time-indexed dataframe.\n",
    "    df1 paramater should contain a column called 'dateTime',\n",
    "    which contains entries of type pandas._libs.tslibs.timestamps.Timestamp\n",
    "    \"\"\"\n",
    "    _tmp = copy.deepcopy(df1)\n",
    "    _tmp.index = df1.dateTime\n",
    "    _tmp.drop('dateTime', axis=1, inplace=True)\n",
    "    _tmp = _tmp.sort_index()\n",
    "    gc.collect()\n",
    "    return _tmp\n",
    "\n",
    "def fill_nas(df1: pd.core.frame.DataFrame, \n",
    "             col_names: List[str] = ['activeInsulin', 'carbs', 'insulin', 'trend'],\n",
    "             fill_with=0) -> pd.core.frame.DataFrame:\n",
    "    \"\"\"  return a new dataframe\n",
    "    \"\"\"\n",
    "    _tmp = copy.deepcopy(df1)\n",
    "    for name in col_names:\n",
    "        _tmp[name] = df1[name].fillna(0)\n",
    "    gc.collect()\n",
    "    return _tmp\n",
    "\n",
    "def classify(value: float, limits: Tuple[float, float] = (70, 140)) -> str:\n",
    "    \"\"\" value: Numerical value\n",
    "        limits: Tuple (lower_boundary, high_boundary)\n",
    "        \n",
    "        Returns:\n",
    "            'hypo'  if value < lower_boundary\n",
    "            'normo' if lower_boundary <= value <= high_boundary\n",
    "            'hyper' if value > high_boundary\n",
    "    \"\"\"\n",
    "    if value < limits[0]:\n",
    "        return 'hypo'\n",
    "    elif value > limits[1]:\n",
    "        return 'hyper'\n",
    "    else:\n",
    "        return 'normo'\n",
    "        \n"
   ]
  },
  {
   "cell_type": "code",
   "execution_count": 266,
   "metadata": {},
   "outputs": [],
   "source": [
    "d = Drive.Drive()"
   ]
  },
  {
   "cell_type": "code",
   "execution_count": 267,
   "metadata": {},
   "outputs": [
    {
     "data": {
      "text/plain": [
       "True"
      ]
     },
     "execution_count": 267,
     "metadata": {},
     "output_type": "execute_result"
    }
   ],
   "source": [
    "file_name = 'journal.jl'\n",
    "file_path = os.path.join('data', file_name)\n",
    "d.download(file_name   = file_name, \n",
    "           target_name = file_path\n",
    "          )"
   ]
  },
  {
   "cell_type": "code",
   "execution_count": 268,
   "metadata": {},
   "outputs": [],
   "source": [
    "pre.file_filter(file_path)"
   ]
  },
  {
   "cell_type": "code",
   "execution_count": 269,
   "metadata": {},
   "outputs": [
    {
     "name": "stdout",
     "output_type": "stream",
     "text": [
      "journal_filtered.jl  journal.jl\r\n"
     ]
    }
   ],
   "source": [
    "ls data/"
   ]
  },
  {
   "cell_type": "code",
   "execution_count": 391,
   "metadata": {},
   "outputs": [
    {
     "data": {
      "text/plain": [
       "221"
      ]
     },
     "execution_count": 391,
     "metadata": {},
     "output_type": "execute_result"
    }
   ],
   "source": [
    "_raw = pd.read_json(file_path, lines=True)\n",
    "len(_raw)"
   ]
  },
  {
   "cell_type": "code",
   "execution_count": 271,
   "metadata": {},
   "outputs": [],
   "source": [
    "#_raw[_raw.index.duplicated()]"
   ]
  },
  {
   "cell_type": "code",
   "execution_count": 304,
   "metadata": {},
   "outputs": [],
   "source": [
    "undesired_columns = [ \n",
    "    'LOT',\n",
    "    'REF', \n",
    "    'initSuccess', \n",
    "    'secondRound',\n",
    "    'food'\n",
    "]"
   ]
  },
  {
   "cell_type": "code",
   "execution_count": 305,
   "metadata": {},
   "outputs": [],
   "source": [
    "_tmp = (\n",
    "        _raw.drop(undesired_columns, axis=1)\n",
    "       ).loc[\n",
    "                (_raw['type'] == 'data') |\n",
    "                (_raw['type'] == 'event')\n",
    "            ]"
   ]
  },
  {
   "cell_type": "code",
   "execution_count": 306,
   "metadata": {},
   "outputs": [
    {
     "data": {
      "text/html": [
       "<div>\n",
       "<style scoped>\n",
       "    .dataframe tbody tr th:only-of-type {\n",
       "        vertical-align: middle;\n",
       "    }\n",
       "\n",
       "    .dataframe tbody tr th {\n",
       "        vertical-align: top;\n",
       "    }\n",
       "\n",
       "    .dataframe thead th {\n",
       "        text-align: right;\n",
       "    }\n",
       "</style>\n",
       "<table border=\"1\" class=\"dataframe\">\n",
       "  <thead>\n",
       "    <tr style=\"text-align: right;\">\n",
       "      <th></th>\n",
       "      <th>BG</th>\n",
       "      <th>IG</th>\n",
       "      <th>activeInsulin</th>\n",
       "      <th>carbs</th>\n",
       "      <th>dateTime</th>\n",
       "      <th>details</th>\n",
       "      <th>insulin</th>\n",
       "      <th>trend</th>\n",
       "      <th>type</th>\n",
       "    </tr>\n",
       "  </thead>\n",
       "  <tbody>\n",
       "    <tr>\n",
       "      <th>0</th>\n",
       "      <td>227.0</td>\n",
       "      <td>226.0</td>\n",
       "      <td>NaN</td>\n",
       "      <td>0.0</td>\n",
       "      <td>2019-02-07 00:27:00</td>\n",
       "      <td>Normal</td>\n",
       "      <td>1.05</td>\n",
       "      <td>0.0</td>\n",
       "      <td>data</td>\n",
       "    </tr>\n",
       "    <tr>\n",
       "      <th>1</th>\n",
       "      <td>NaN</td>\n",
       "      <td>190.0</td>\n",
       "      <td>NaN</td>\n",
       "      <td>NaN</td>\n",
       "      <td>2019-02-07 01:26:00</td>\n",
       "      <td>Normal</td>\n",
       "      <td>NaN</td>\n",
       "      <td>NaN</td>\n",
       "      <td>data</td>\n",
       "    </tr>\n",
       "    <tr>\n",
       "      <th>2</th>\n",
       "      <td>NaN</td>\n",
       "      <td>174.0</td>\n",
       "      <td>NaN</td>\n",
       "      <td>NaN</td>\n",
       "      <td>2019-02-07 08:49:00</td>\n",
       "      <td>Wake</td>\n",
       "      <td>NaN</td>\n",
       "      <td>0.0</td>\n",
       "      <td>event</td>\n",
       "    </tr>\n",
       "    <tr>\n",
       "      <th>5</th>\n",
       "      <td>NaN</td>\n",
       "      <td>148.0</td>\n",
       "      <td>NaN</td>\n",
       "      <td>NaN</td>\n",
       "      <td>2019-02-07 02:24:00</td>\n",
       "      <td>Normal</td>\n",
       "      <td>NaN</td>\n",
       "      <td>NaN</td>\n",
       "      <td>data</td>\n",
       "    </tr>\n",
       "    <tr>\n",
       "      <th>6</th>\n",
       "      <td>NaN</td>\n",
       "      <td>131.0</td>\n",
       "      <td>NaN</td>\n",
       "      <td>NaN</td>\n",
       "      <td>2019-02-07 03:14:00</td>\n",
       "      <td>Normal</td>\n",
       "      <td>NaN</td>\n",
       "      <td>NaN</td>\n",
       "      <td>data</td>\n",
       "    </tr>\n",
       "  </tbody>\n",
       "</table>\n",
       "</div>"
      ],
      "text/plain": [
       "      BG     IG  activeInsulin  carbs            dateTime details  insulin  \\\n",
       "0  227.0  226.0            NaN    0.0 2019-02-07 00:27:00  Normal     1.05   \n",
       "1    NaN  190.0            NaN    NaN 2019-02-07 01:26:00  Normal      NaN   \n",
       "2    NaN  174.0            NaN    NaN 2019-02-07 08:49:00    Wake      NaN   \n",
       "5    NaN  148.0            NaN    NaN 2019-02-07 02:24:00  Normal      NaN   \n",
       "6    NaN  131.0            NaN    NaN 2019-02-07 03:14:00  Normal      NaN   \n",
       "\n",
       "   trend   type  \n",
       "0    0.0   data  \n",
       "1    NaN   data  \n",
       "2    0.0  event  \n",
       "5    NaN   data  \n",
       "6    NaN   data  "
      ]
     },
     "execution_count": 306,
     "metadata": {},
     "output_type": "execute_result"
    }
   ],
   "source": [
    "_t_data = time_indexed_df(_tmp)\n",
    "_tmp.head()"
   ]
  },
  {
   "cell_type": "code",
   "execution_count": 307,
   "metadata": {},
   "outputs": [
    {
     "data": {
      "text/html": [
       "<div>\n",
       "<style scoped>\n",
       "    .dataframe tbody tr th:only-of-type {\n",
       "        vertical-align: middle;\n",
       "    }\n",
       "\n",
       "    .dataframe tbody tr th {\n",
       "        vertical-align: top;\n",
       "    }\n",
       "\n",
       "    .dataframe thead th {\n",
       "        text-align: right;\n",
       "    }\n",
       "</style>\n",
       "<table border=\"1\" class=\"dataframe\">\n",
       "  <thead>\n",
       "    <tr style=\"text-align: right;\">\n",
       "      <th></th>\n",
       "      <th>BG</th>\n",
       "      <th>IG</th>\n",
       "      <th>activeInsulin</th>\n",
       "      <th>carbs</th>\n",
       "      <th>details</th>\n",
       "      <th>insulin</th>\n",
       "      <th>trend</th>\n",
       "      <th>type</th>\n",
       "    </tr>\n",
       "    <tr>\n",
       "      <th>dateTime</th>\n",
       "      <th></th>\n",
       "      <th></th>\n",
       "      <th></th>\n",
       "      <th></th>\n",
       "      <th></th>\n",
       "      <th></th>\n",
       "      <th></th>\n",
       "      <th></th>\n",
       "    </tr>\n",
       "  </thead>\n",
       "  <tbody>\n",
       "    <tr>\n",
       "      <th>2019-02-07 00:27:00</th>\n",
       "      <td>227.0</td>\n",
       "      <td>226.0</td>\n",
       "      <td>NaN</td>\n",
       "      <td>0.0</td>\n",
       "      <td>Normal</td>\n",
       "      <td>1.05</td>\n",
       "      <td>0.0</td>\n",
       "      <td>data</td>\n",
       "    </tr>\n",
       "    <tr>\n",
       "      <th>2019-02-07 01:26:00</th>\n",
       "      <td>NaN</td>\n",
       "      <td>190.0</td>\n",
       "      <td>NaN</td>\n",
       "      <td>NaN</td>\n",
       "      <td>Normal</td>\n",
       "      <td>NaN</td>\n",
       "      <td>NaN</td>\n",
       "      <td>data</td>\n",
       "    </tr>\n",
       "    <tr>\n",
       "      <th>2019-02-07 02:24:00</th>\n",
       "      <td>NaN</td>\n",
       "      <td>148.0</td>\n",
       "      <td>NaN</td>\n",
       "      <td>NaN</td>\n",
       "      <td>Normal</td>\n",
       "      <td>NaN</td>\n",
       "      <td>NaN</td>\n",
       "      <td>data</td>\n",
       "    </tr>\n",
       "    <tr>\n",
       "      <th>2019-02-07 03:14:00</th>\n",
       "      <td>NaN</td>\n",
       "      <td>131.0</td>\n",
       "      <td>NaN</td>\n",
       "      <td>NaN</td>\n",
       "      <td>Normal</td>\n",
       "      <td>NaN</td>\n",
       "      <td>NaN</td>\n",
       "      <td>data</td>\n",
       "    </tr>\n",
       "    <tr>\n",
       "      <th>2019-02-07 04:24:00</th>\n",
       "      <td>NaN</td>\n",
       "      <td>118.0</td>\n",
       "      <td>NaN</td>\n",
       "      <td>NaN</td>\n",
       "      <td>Normal</td>\n",
       "      <td>NaN</td>\n",
       "      <td>NaN</td>\n",
       "      <td>data</td>\n",
       "    </tr>\n",
       "  </tbody>\n",
       "</table>\n",
       "</div>"
      ],
      "text/plain": [
       "                        BG     IG  activeInsulin  carbs details  insulin  \\\n",
       "dateTime                                                                   \n",
       "2019-02-07 00:27:00  227.0  226.0            NaN    0.0  Normal     1.05   \n",
       "2019-02-07 01:26:00    NaN  190.0            NaN    NaN  Normal      NaN   \n",
       "2019-02-07 02:24:00    NaN  148.0            NaN    NaN  Normal      NaN   \n",
       "2019-02-07 03:14:00    NaN  131.0            NaN    NaN  Normal      NaN   \n",
       "2019-02-07 04:24:00    NaN  118.0            NaN    NaN  Normal      NaN   \n",
       "\n",
       "                     trend  type  \n",
       "dateTime                          \n",
       "2019-02-07 00:27:00    0.0  data  \n",
       "2019-02-07 01:26:00    NaN  data  \n",
       "2019-02-07 02:24:00    NaN  data  \n",
       "2019-02-07 03:14:00    NaN  data  \n",
       "2019-02-07 04:24:00    NaN  data  "
      ]
     },
     "execution_count": 307,
     "metadata": {},
     "output_type": "execute_result"
    }
   ],
   "source": [
    "_t_data.head()"
   ]
  },
  {
   "cell_type": "code",
   "execution_count": 308,
   "metadata": {},
   "outputs": [
    {
     "data": {
      "text/html": [
       "<div>\n",
       "<style scoped>\n",
       "    .dataframe tbody tr th:only-of-type {\n",
       "        vertical-align: middle;\n",
       "    }\n",
       "\n",
       "    .dataframe tbody tr th {\n",
       "        vertical-align: top;\n",
       "    }\n",
       "\n",
       "    .dataframe thead th {\n",
       "        text-align: right;\n",
       "    }\n",
       "</style>\n",
       "<table border=\"1\" class=\"dataframe\">\n",
       "  <thead>\n",
       "    <tr style=\"text-align: right;\">\n",
       "      <th></th>\n",
       "      <th>BG</th>\n",
       "      <th>IG</th>\n",
       "      <th>activeInsulin</th>\n",
       "      <th>carbs</th>\n",
       "      <th>details</th>\n",
       "      <th>insulin</th>\n",
       "      <th>trend</th>\n",
       "      <th>type</th>\n",
       "    </tr>\n",
       "    <tr>\n",
       "      <th>dateTime</th>\n",
       "      <th></th>\n",
       "      <th></th>\n",
       "      <th></th>\n",
       "      <th></th>\n",
       "      <th></th>\n",
       "      <th></th>\n",
       "      <th></th>\n",
       "      <th></th>\n",
       "    </tr>\n",
       "  </thead>\n",
       "  <tbody>\n",
       "    <tr>\n",
       "      <th>2019-02-07 00:27:00</th>\n",
       "      <td>227.0</td>\n",
       "      <td>226.0</td>\n",
       "      <td>0.0</td>\n",
       "      <td>0.0</td>\n",
       "      <td>Normal</td>\n",
       "      <td>1.05</td>\n",
       "      <td>0.0</td>\n",
       "      <td>data</td>\n",
       "    </tr>\n",
       "    <tr>\n",
       "      <th>2019-02-07 01:26:00</th>\n",
       "      <td>NaN</td>\n",
       "      <td>190.0</td>\n",
       "      <td>0.0</td>\n",
       "      <td>0.0</td>\n",
       "      <td>Normal</td>\n",
       "      <td>0.00</td>\n",
       "      <td>0.0</td>\n",
       "      <td>data</td>\n",
       "    </tr>\n",
       "    <tr>\n",
       "      <th>2019-02-07 02:24:00</th>\n",
       "      <td>NaN</td>\n",
       "      <td>148.0</td>\n",
       "      <td>0.0</td>\n",
       "      <td>0.0</td>\n",
       "      <td>Normal</td>\n",
       "      <td>0.00</td>\n",
       "      <td>0.0</td>\n",
       "      <td>data</td>\n",
       "    </tr>\n",
       "    <tr>\n",
       "      <th>2019-02-07 03:14:00</th>\n",
       "      <td>NaN</td>\n",
       "      <td>131.0</td>\n",
       "      <td>0.0</td>\n",
       "      <td>0.0</td>\n",
       "      <td>Normal</td>\n",
       "      <td>0.00</td>\n",
       "      <td>0.0</td>\n",
       "      <td>data</td>\n",
       "    </tr>\n",
       "    <tr>\n",
       "      <th>2019-02-07 04:24:00</th>\n",
       "      <td>NaN</td>\n",
       "      <td>118.0</td>\n",
       "      <td>0.0</td>\n",
       "      <td>0.0</td>\n",
       "      <td>Normal</td>\n",
       "      <td>0.00</td>\n",
       "      <td>0.0</td>\n",
       "      <td>data</td>\n",
       "    </tr>\n",
       "  </tbody>\n",
       "</table>\n",
       "</div>"
      ],
      "text/plain": [
       "                        BG     IG  activeInsulin  carbs details  insulin  \\\n",
       "dateTime                                                                   \n",
       "2019-02-07 00:27:00  227.0  226.0            0.0    0.0  Normal     1.05   \n",
       "2019-02-07 01:26:00    NaN  190.0            0.0    0.0  Normal     0.00   \n",
       "2019-02-07 02:24:00    NaN  148.0            0.0    0.0  Normal     0.00   \n",
       "2019-02-07 03:14:00    NaN  131.0            0.0    0.0  Normal     0.00   \n",
       "2019-02-07 04:24:00    NaN  118.0            0.0    0.0  Normal     0.00   \n",
       "\n",
       "                     trend  type  \n",
       "dateTime                          \n",
       "2019-02-07 00:27:00    0.0  data  \n",
       "2019-02-07 01:26:00    0.0  data  \n",
       "2019-02-07 02:24:00    0.0  data  \n",
       "2019-02-07 03:14:00    0.0  data  \n",
       "2019-02-07 04:24:00    0.0  data  "
      ]
     },
     "execution_count": 308,
     "metadata": {},
     "output_type": "execute_result"
    }
   ],
   "source": [
    "data = fill_nas(_t_data)\n",
    "data.head()"
   ]
  },
  {
   "cell_type": "code",
   "execution_count": 332,
   "metadata": {},
   "outputs": [],
   "source": [
    "data2 = copy.deepcopy(data)"
   ]
  },
  {
   "cell_type": "code",
   "execution_count": 375,
   "metadata": {},
   "outputs": [],
   "source": [
    "data2['BG'] = list( \n",
    "                    map(\n",
    "                         lambda x, y: x if not np.isnan(x) else y, data['IG'], data['BG']\n",
    "                       )\n",
    "                  )                 "
   ]
  },
  {
   "cell_type": "code",
   "execution_count": 376,
   "metadata": {},
   "outputs": [],
   "source": [
    "data2['IG'] = list( \n",
    "                    map(\n",
    "                         lambda x, y: x if not np.isnan(x) else y, data['IG'], data['BG']\n",
    "                       )\n",
    "                  )  "
   ]
  },
  {
   "cell_type": "code",
   "execution_count": 377,
   "metadata": {},
   "outputs": [
    {
     "data": {
      "text/html": [
       "<div>\n",
       "<style scoped>\n",
       "    .dataframe tbody tr th:only-of-type {\n",
       "        vertical-align: middle;\n",
       "    }\n",
       "\n",
       "    .dataframe tbody tr th {\n",
       "        vertical-align: top;\n",
       "    }\n",
       "\n",
       "    .dataframe thead th {\n",
       "        text-align: right;\n",
       "    }\n",
       "</style>\n",
       "<table border=\"1\" class=\"dataframe\">\n",
       "  <thead>\n",
       "    <tr style=\"text-align: right;\">\n",
       "      <th></th>\n",
       "      <th>BG</th>\n",
       "      <th>IG</th>\n",
       "      <th>activeInsulin</th>\n",
       "      <th>carbs</th>\n",
       "      <th>details</th>\n",
       "      <th>insulin</th>\n",
       "      <th>trend</th>\n",
       "      <th>type</th>\n",
       "    </tr>\n",
       "    <tr>\n",
       "      <th>dateTime</th>\n",
       "      <th></th>\n",
       "      <th></th>\n",
       "      <th></th>\n",
       "      <th></th>\n",
       "      <th></th>\n",
       "      <th></th>\n",
       "      <th></th>\n",
       "      <th></th>\n",
       "    </tr>\n",
       "  </thead>\n",
       "  <tbody>\n",
       "    <tr>\n",
       "      <th>2019-02-07 00:27:00</th>\n",
       "      <td>226.0</td>\n",
       "      <td>226.0</td>\n",
       "      <td>0.0</td>\n",
       "      <td>0.0</td>\n",
       "      <td>Normal</td>\n",
       "      <td>1.05</td>\n",
       "      <td>0.0</td>\n",
       "      <td>data</td>\n",
       "    </tr>\n",
       "    <tr>\n",
       "      <th>2019-02-07 01:26:00</th>\n",
       "      <td>190.0</td>\n",
       "      <td>190.0</td>\n",
       "      <td>0.0</td>\n",
       "      <td>0.0</td>\n",
       "      <td>Normal</td>\n",
       "      <td>0.00</td>\n",
       "      <td>0.0</td>\n",
       "      <td>data</td>\n",
       "    </tr>\n",
       "    <tr>\n",
       "      <th>2019-02-07 02:24:00</th>\n",
       "      <td>148.0</td>\n",
       "      <td>148.0</td>\n",
       "      <td>0.0</td>\n",
       "      <td>0.0</td>\n",
       "      <td>Normal</td>\n",
       "      <td>0.00</td>\n",
       "      <td>0.0</td>\n",
       "      <td>data</td>\n",
       "    </tr>\n",
       "    <tr>\n",
       "      <th>2019-02-07 03:14:00</th>\n",
       "      <td>131.0</td>\n",
       "      <td>131.0</td>\n",
       "      <td>0.0</td>\n",
       "      <td>0.0</td>\n",
       "      <td>Normal</td>\n",
       "      <td>0.00</td>\n",
       "      <td>0.0</td>\n",
       "      <td>data</td>\n",
       "    </tr>\n",
       "    <tr>\n",
       "      <th>2019-02-07 04:24:00</th>\n",
       "      <td>118.0</td>\n",
       "      <td>118.0</td>\n",
       "      <td>0.0</td>\n",
       "      <td>0.0</td>\n",
       "      <td>Normal</td>\n",
       "      <td>0.00</td>\n",
       "      <td>0.0</td>\n",
       "      <td>data</td>\n",
       "    </tr>\n",
       "  </tbody>\n",
       "</table>\n",
       "</div>"
      ],
      "text/plain": [
       "                        BG     IG  activeInsulin  carbs details  insulin  \\\n",
       "dateTime                                                                   \n",
       "2019-02-07 00:27:00  226.0  226.0            0.0    0.0  Normal     1.05   \n",
       "2019-02-07 01:26:00  190.0  190.0            0.0    0.0  Normal     0.00   \n",
       "2019-02-07 02:24:00  148.0  148.0            0.0    0.0  Normal     0.00   \n",
       "2019-02-07 03:14:00  131.0  131.0            0.0    0.0  Normal     0.00   \n",
       "2019-02-07 04:24:00  118.0  118.0            0.0    0.0  Normal     0.00   \n",
       "\n",
       "                     trend  type  \n",
       "dateTime                          \n",
       "2019-02-07 00:27:00    0.0  data  \n",
       "2019-02-07 01:26:00    0.0  data  \n",
       "2019-02-07 02:24:00    0.0  data  \n",
       "2019-02-07 03:14:00    0.0  data  \n",
       "2019-02-07 04:24:00    0.0  data  "
      ]
     },
     "execution_count": 377,
     "metadata": {},
     "output_type": "execute_result"
    }
   ],
   "source": [
    "data2.head()"
   ]
  },
  {
   "cell_type": "code",
   "execution_count": 383,
   "metadata": {},
   "outputs": [
    {
     "data": {
      "text/plain": [
       "BG               2\n",
       "IG               2\n",
       "activeInsulin    0\n",
       "carbs            0\n",
       "details          0\n",
       "insulin          0\n",
       "trend            0\n",
       "type             0\n",
       "dtype: int64"
      ]
     },
     "execution_count": 383,
     "metadata": {},
     "output_type": "execute_result"
    }
   ],
   "source": [
    "data2.isna().sum()"
   ]
  },
  {
   "cell_type": "code",
   "execution_count": 386,
   "metadata": {},
   "outputs": [],
   "source": [
    "data3 = data2.dropna()"
   ]
  },
  {
   "cell_type": "code",
   "execution_count": 393,
   "metadata": {},
   "outputs": [],
   "source": [
    "data4 = data3[ data3.carbs != 0 ]"
   ]
  },
  {
   "cell_type": "code",
   "execution_count": 414,
   "metadata": {},
   "outputs": [],
   "source": [
    "data3.loc[:,'hour'] = list(map(\n",
    "                        lambda x: x.hour, data3.index\n",
    "                        )\n",
    "                    )"
   ]
  },
  {
   "cell_type": "code",
   "execution_count": 429,
   "metadata": {},
   "outputs": [
    {
     "name": "stderr",
     "output_type": "stream",
     "text": [
      "/home/gml/anaconda3/envs/DiabManager/lib/python3.6/site-packages/pandas/core/indexing.py:362: SettingWithCopyWarning: \n",
      "A value is trying to be set on a copy of a slice from a DataFrame.\n",
      "Try using .loc[row_indexer,col_indexer] = value instead\n",
      "\n",
      "See the caveats in the documentation: http://pandas.pydata.org/pandas-docs/stable/indexing.html#indexing-view-versus-copy\n",
      "  self.obj[key] = _infer_fill_value(value)\n",
      "/home/gml/anaconda3/envs/DiabManager/lib/python3.6/site-packages/pandas/core/indexing.py:543: SettingWithCopyWarning: \n",
      "A value is trying to be set on a copy of a slice from a DataFrame.\n",
      "Try using .loc[row_indexer,col_indexer] = value instead\n",
      "\n",
      "See the caveats in the documentation: http://pandas.pydata.org/pandas-docs/stable/indexing.html#indexing-view-versus-copy\n",
      "  self.obj[item] = s\n"
     ]
    }
   ],
   "source": [
    "data3.loc[:, 'tag'] = list(map(\n",
    "                                classify, data3['IG']\n",
    "                        )\n",
    "                    )"
   ]
  },
  {
   "cell_type": "code",
   "execution_count": 436,
   "metadata": {},
   "outputs": [
    {
     "data": {
      "text/plain": [
       "Normal            96\n",
       "Postprandial      30\n",
       "Postcorrection     6\n",
       "Wake               5\n",
       "Sleep              3\n",
       "Post-Exercice      2\n",
       "Pre-Exercice       1\n",
       "Excercice          1\n",
       "Dual               1\n",
       "Name: details, dtype: int64"
      ]
     },
     "execution_count": 436,
     "metadata": {},
     "output_type": "execute_result"
    }
   ],
   "source": [
    "data3['details'].value_counts()"
   ]
  },
  {
   "cell_type": "code",
   "execution_count": 443,
   "metadata": {},
   "outputs": [
    {
     "data": {
      "text/plain": [
       "Index([True, True, True, True, True, True, True, True, True, True, True, True,\n",
       "       True, True, True, True, True, True, True, True, True, True, True, True,\n",
       "       True, True, True, True, True, True, True, True, True, True, True, True,\n",
       "       True, True, True, True, True, True, True, True, True],\n",
       "      dtype='object', name='dateTime')"
      ]
     },
     "execution_count": 443,
     "metadata": {},
     "output_type": "execute_result"
    }
   ],
   "source": [
    "data4.index.map(lambda x: x)"
   ]
  },
  {
   "cell_type": "code",
   "execution_count": 444,
   "metadata": {},
   "outputs": [
    {
     "data": {
      "text/html": [
       "<div>\n",
       "<style scoped>\n",
       "    .dataframe tbody tr th:only-of-type {\n",
       "        vertical-align: middle;\n",
       "    }\n",
       "\n",
       "    .dataframe tbody tr th {\n",
       "        vertical-align: top;\n",
       "    }\n",
       "\n",
       "    .dataframe thead th {\n",
       "        text-align: right;\n",
       "    }\n",
       "</style>\n",
       "<table border=\"1\" class=\"dataframe\">\n",
       "  <thead>\n",
       "    <tr style=\"text-align: right;\">\n",
       "      <th></th>\n",
       "      <th>BG</th>\n",
       "      <th>IG</th>\n",
       "      <th>activeInsulin</th>\n",
       "      <th>carbs</th>\n",
       "      <th>details</th>\n",
       "      <th>insulin</th>\n",
       "      <th>trend</th>\n",
       "      <th>type</th>\n",
       "      <th>hour</th>\n",
       "      <th>tag</th>\n",
       "    </tr>\n",
       "    <tr>\n",
       "      <th>dateTime</th>\n",
       "      <th></th>\n",
       "      <th></th>\n",
       "      <th></th>\n",
       "      <th></th>\n",
       "      <th></th>\n",
       "      <th></th>\n",
       "      <th></th>\n",
       "      <th></th>\n",
       "      <th></th>\n",
       "      <th></th>\n",
       "    </tr>\n",
       "  </thead>\n",
       "  <tbody>\n",
       "    <tr>\n",
       "      <th>2019-02-07 00:27:00</th>\n",
       "      <td>226.0</td>\n",
       "      <td>226.0</td>\n",
       "      <td>0.0</td>\n",
       "      <td>0.0</td>\n",
       "      <td>Normal</td>\n",
       "      <td>1.05</td>\n",
       "      <td>0.0</td>\n",
       "      <td>data</td>\n",
       "      <td>0</td>\n",
       "      <td>hyper</td>\n",
       "    </tr>\n",
       "    <tr>\n",
       "      <th>2019-02-07 01:26:00</th>\n",
       "      <td>190.0</td>\n",
       "      <td>190.0</td>\n",
       "      <td>0.0</td>\n",
       "      <td>0.0</td>\n",
       "      <td>Normal</td>\n",
       "      <td>0.00</td>\n",
       "      <td>0.0</td>\n",
       "      <td>data</td>\n",
       "      <td>1</td>\n",
       "      <td>hyper</td>\n",
       "    </tr>\n",
       "    <tr>\n",
       "      <th>2019-02-07 02:24:00</th>\n",
       "      <td>148.0</td>\n",
       "      <td>148.0</td>\n",
       "      <td>0.0</td>\n",
       "      <td>0.0</td>\n",
       "      <td>Normal</td>\n",
       "      <td>0.00</td>\n",
       "      <td>0.0</td>\n",
       "      <td>data</td>\n",
       "      <td>2</td>\n",
       "      <td>hyper</td>\n",
       "    </tr>\n",
       "    <tr>\n",
       "      <th>2019-02-07 03:14:00</th>\n",
       "      <td>131.0</td>\n",
       "      <td>131.0</td>\n",
       "      <td>0.0</td>\n",
       "      <td>0.0</td>\n",
       "      <td>Normal</td>\n",
       "      <td>0.00</td>\n",
       "      <td>0.0</td>\n",
       "      <td>data</td>\n",
       "      <td>3</td>\n",
       "      <td>normo</td>\n",
       "    </tr>\n",
       "    <tr>\n",
       "      <th>2019-02-07 04:24:00</th>\n",
       "      <td>118.0</td>\n",
       "      <td>118.0</td>\n",
       "      <td>0.0</td>\n",
       "      <td>0.0</td>\n",
       "      <td>Normal</td>\n",
       "      <td>0.00</td>\n",
       "      <td>0.0</td>\n",
       "      <td>data</td>\n",
       "      <td>4</td>\n",
       "      <td>normo</td>\n",
       "    </tr>\n",
       "  </tbody>\n",
       "</table>\n",
       "</div>"
      ],
      "text/plain": [
       "                        BG     IG  activeInsulin  carbs details  insulin  \\\n",
       "dateTime                                                                   \n",
       "2019-02-07 00:27:00  226.0  226.0            0.0    0.0  Normal     1.05   \n",
       "2019-02-07 01:26:00  190.0  190.0            0.0    0.0  Normal     0.00   \n",
       "2019-02-07 02:24:00  148.0  148.0            0.0    0.0  Normal     0.00   \n",
       "2019-02-07 03:14:00  131.0  131.0            0.0    0.0  Normal     0.00   \n",
       "2019-02-07 04:24:00  118.0  118.0            0.0    0.0  Normal     0.00   \n",
       "\n",
       "                     trend  type  hour    tag  \n",
       "dateTime                                       \n",
       "2019-02-07 00:27:00    0.0  data     0  hyper  \n",
       "2019-02-07 01:26:00    0.0  data     1  hyper  \n",
       "2019-02-07 02:24:00    0.0  data     2  hyper  \n",
       "2019-02-07 03:14:00    0.0  data     3  normo  \n",
       "2019-02-07 04:24:00    0.0  data     4  normo  "
      ]
     },
     "execution_count": 444,
     "metadata": {},
     "output_type": "execute_result"
    }
   ],
   "source": [
    "data3.head()"
   ]
  },
  {
   "cell_type": "code",
   "execution_count": 403,
   "metadata": {},
   "outputs": [
    {
     "data": {
      "text/plain": [
       "<matplotlib.axes._subplots.AxesSubplot at 0x7f3274a59898>"
      ]
     },
     "execution_count": 403,
     "metadata": {},
     "output_type": "execute_result"
    },
    {
     "data": {
      "image/png": "[encoded data removed]",
      "text/plain": [
       "<Figure size 432x288 with 1 Axes>"
      ]
     },
     "metadata": {
      "needs_background": "light"
     },
     "output_type": "display_data"
    }
   ],
   "source": [
    "sb.distplot(x)"
   ]
  },
  {
   "cell_type": "code",
   "execution_count": 421,
   "metadata": {},
   "outputs": [
    {
     "data": {
      "text/plain": [
       "pandas._libs.tslibs.timestamps.Timestamp"
      ]
     },
     "execution_count": 421,
     "metadata": {},
     "output_type": "execute_result"
    }
   ],
   "source": [
    "type(_raw.loc[1, 'dateTime'])"
   ]
  },
  {
   "cell_type": "code",
   "execution_count": 427,
   "metadata": {},
   "outputs": [
    {
     "data": {
      "text/plain": [
       "['hyper',\n",
       " 'hyper',\n",
       " 'hyper',\n",
       " 'normo',\n",
       " 'normo',\n",
       " 'hyper',\n",
       " 'hyper',\n",
       " 'hyper',\n",
       " 'normo',\n",
       " 'hyper',\n",
       " 'hyper',\n",
       " 'normo',\n",
       " 'normo',\n",
       " 'normo',\n",
       " 'normo',\n",
       " 'hyper',\n",
       " 'hyper',\n",
       " 'normo',\n",
       " 'normo',\n",
       " 'hyper',\n",
       " 'hyper',\n",
       " 'normo',\n",
       " 'normo',\n",
       " 'hyper',\n",
       " 'normo',\n",
       " 'hyper',\n",
       " 'hyper',\n",
       " 'normo',\n",
       " 'normo',\n",
       " 'hyper',\n",
       " 'hyper',\n",
       " 'normo',\n",
       " 'normo',\n",
       " 'normo',\n",
       " 'normo',\n",
       " 'normo',\n",
       " 'hyper',\n",
       " 'hyper',\n",
       " 'hyper',\n",
       " 'hyper',\n",
       " 'normo',\n",
       " 'normo',\n",
       " 'normo',\n",
       " 'normo',\n",
       " 'hyper',\n",
       " 'hyper',\n",
       " 'hyper',\n",
       " 'hyper',\n",
       " 'hyper',\n",
       " 'normo',\n",
       " 'hyper',\n",
       " 'normo',\n",
       " 'normo',\n",
       " 'hypo',\n",
       " 'hypo',\n",
       " 'normo',\n",
       " 'hyper',\n",
       " 'hyper',\n",
       " 'normo',\n",
       " 'hyper',\n",
       " 'hyper',\n",
       " 'hyper',\n",
       " 'hyper',\n",
       " 'normo',\n",
       " 'hyper',\n",
       " 'normo',\n",
       " 'hyper',\n",
       " 'hyper',\n",
       " 'normo',\n",
       " 'normo',\n",
       " 'normo',\n",
       " 'normo',\n",
       " 'normo',\n",
       " 'hyper',\n",
       " 'hyper',\n",
       " 'hyper',\n",
       " 'hyper',\n",
       " 'normo',\n",
       " 'normo',\n",
       " 'hyper',\n",
       " 'hyper',\n",
       " 'hyper',\n",
       " 'normo',\n",
       " 'normo',\n",
       " 'normo',\n",
       " 'hyper',\n",
       " 'hyper',\n",
       " 'normo',\n",
       " 'normo',\n",
       " 'normo',\n",
       " 'normo',\n",
       " 'normo',\n",
       " 'hyper',\n",
       " 'hyper',\n",
       " 'normo',\n",
       " 'normo',\n",
       " 'normo',\n",
       " 'normo',\n",
       " 'hyper',\n",
       " 'hyper',\n",
       " 'hyper',\n",
       " 'hyper',\n",
       " 'normo',\n",
       " 'normo',\n",
       " 'normo',\n",
       " 'normo',\n",
       " 'hyper',\n",
       " 'normo',\n",
       " 'normo',\n",
       " 'normo',\n",
       " 'normo',\n",
       " 'hyper',\n",
       " 'normo',\n",
       " 'hyper',\n",
       " 'hyper',\n",
       " 'hyper',\n",
       " 'hyper',\n",
       " 'hyper',\n",
       " 'normo',\n",
       " 'hyper',\n",
       " 'normo',\n",
       " 'normo',\n",
       " 'normo',\n",
       " 'hyper',\n",
       " 'hyper',\n",
       " 'hyper',\n",
       " 'hyper',\n",
       " 'normo',\n",
       " 'hyper',\n",
       " 'normo',\n",
       " 'normo',\n",
       " 'normo',\n",
       " 'normo',\n",
       " 'normo',\n",
       " 'normo',\n",
       " 'normo',\n",
       " 'normo',\n",
       " 'hyper',\n",
       " 'hyper',\n",
       " 'hyper',\n",
       " 'hyper',\n",
       " 'hyper',\n",
       " 'hyper',\n",
       " 'normo',\n",
       " 'hyper']"
      ]
     },
     "execution_count": 427,
     "metadata": {},
     "output_type": "execute_result"
    }
   ],
   "source": [
    "list(map(\n",
    "            classify, data3['IG']\n",
    "        )\n",
    "    )"
   ]
  },
  {
   "cell_type": "code",
   "execution_count": 453,
   "metadata": {},
   "outputs": [
    {
     "name": "stdout",
     "output_type": "stream",
     "text": [
      "2019-02-06 22:27:00\n"
     ]
    },
    {
     "data": {
      "text/plain": [
       "Timestamp('2019-02-07 02:27:00')"
      ]
     },
     "execution_count": 453,
     "metadata": {},
     "output_type": "execute_result"
    }
   ],
   "source": [
    "print(data3.index[0] - dt.timedelta(hours=2))\n",
    "data3.index[0] + dt.timedelta(hours=2)"
   ]
  },
  {
   "cell_type": "code",
   "execution_count": null,
   "metadata": {},
   "outputs": [],
   "source": []
  },
  {
   "cell_type": "code",
   "execution_count": null,
   "metadata": {},
   "outputs": [],
   "source": []
  },
  {
   "cell_type": "code",
   "execution_count": null,
   "metadata": {},
   "outputs": [],
   "source": []
  }
 ],
 "metadata": {
  "kernelspec": {
   "display_name": "Python [conda env:DiabManager]",
   "language": "python",
   "name": "conda-env-DiabManager-py"
  },
  "language_info": {
   "codemirror_mode": {
    "name": "ipython",
    "version": 3
   },
   "file_extension": ".py",
   "mimetype": "text/x-python",
   "name": "python",
   "nbconvert_exporter": "python",
   "pygments_lexer": "ipython3",
   "version": "3.6.8"
  }
 },
 "nbformat": 4,
 "nbformat_minor": 2
}
