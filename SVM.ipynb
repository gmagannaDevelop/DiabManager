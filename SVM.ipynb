{
 "cells": [
  {
   "cell_type": "code",
   "execution_count": 1,
   "metadata": {},
   "outputs": [],
   "source": [
    "import pandas as pd\n",
    "import numpy as np\n",
    "import seaborn as sb\n",
    "\n",
    "from sklearn import preprocessing\n",
    "from sklearn.metrics import confusion_matrix \n",
    "from sklearn.model_selection import train_test_split \n",
    "from sklearn.model_selection import KFold\n",
    "from sklearn.model_selection import cross_val_score\n",
    "# the support vector machine class :  SVM  \n",
    "from sklearn.svm import SVC \n",
    "\n",
    "# parsing and preprocessing :\n",
    "import gmparser as parse"
   ]
  },
  {
   "cell_type": "code",
   "execution_count": 2,
   "metadata": {},
   "outputs": [],
   "source": [
    "data, encoded_data, X, y = parse.main()"
   ]
  },
  {
   "cell_type": "code",
   "execution_count": 3,
   "metadata": {},
   "outputs": [
    {
     "data": {
      "text/html": [
       "<div>\n",
       "<style scoped>\n",
       "    .dataframe tbody tr th:only-of-type {\n",
       "        vertical-align: middle;\n",
       "    }\n",
       "\n",
       "    .dataframe tbody tr th {\n",
       "        vertical-align: top;\n",
       "    }\n",
       "\n",
       "    .dataframe thead th {\n",
       "        text-align: right;\n",
       "    }\n",
       "</style>\n",
       "<table border=\"1\" class=\"dataframe\">\n",
       "  <thead>\n",
       "    <tr style=\"text-align: right;\">\n",
       "      <th></th>\n",
       "      <th>activeInsulin</th>\n",
       "      <th>carbs</th>\n",
       "      <th>insulin</th>\n",
       "      <th>trend</th>\n",
       "      <th>glycaemia</th>\n",
       "      <th>hour</th>\n",
       "      <th>tag</th>\n",
       "      <th>postp tag</th>\n",
       "    </tr>\n",
       "    <tr>\n",
       "      <th>dateTime</th>\n",
       "      <th></th>\n",
       "      <th></th>\n",
       "      <th></th>\n",
       "      <th></th>\n",
       "      <th></th>\n",
       "      <th></th>\n",
       "      <th></th>\n",
       "      <th></th>\n",
       "    </tr>\n",
       "  </thead>\n",
       "  <tbody>\n",
       "    <tr>\n",
       "      <th>2019-02-07 09:24:00</th>\n",
       "      <td>0.0</td>\n",
       "      <td>30.0</td>\n",
       "      <td>3.75</td>\n",
       "      <td>0.0</td>\n",
       "      <td>184.0</td>\n",
       "      <td>9</td>\n",
       "      <td>hyper</td>\n",
       "      <td>hyper</td>\n",
       "    </tr>\n",
       "    <tr>\n",
       "      <th>2019-02-07 12:53:00</th>\n",
       "      <td>0.0</td>\n",
       "      <td>56.0</td>\n",
       "      <td>4.95</td>\n",
       "      <td>0.0</td>\n",
       "      <td>133.0</td>\n",
       "      <td>12</td>\n",
       "      <td>normo</td>\n",
       "      <td>hyper</td>\n",
       "    </tr>\n",
       "    <tr>\n",
       "      <th>2019-02-07 17:39:00</th>\n",
       "      <td>0.0</td>\n",
       "      <td>12.0</td>\n",
       "      <td>1.00</td>\n",
       "      <td>0.0</td>\n",
       "      <td>99.0</td>\n",
       "      <td>17</td>\n",
       "      <td>normo</td>\n",
       "      <td>normo</td>\n",
       "    </tr>\n",
       "    <tr>\n",
       "      <th>2019-02-07 18:13:00</th>\n",
       "      <td>0.0</td>\n",
       "      <td>10.0</td>\n",
       "      <td>0.00</td>\n",
       "      <td>0.0</td>\n",
       "      <td>101.0</td>\n",
       "      <td>18</td>\n",
       "      <td>normo</td>\n",
       "      <td>normo</td>\n",
       "    </tr>\n",
       "    <tr>\n",
       "      <th>2019-02-09 10:52:00</th>\n",
       "      <td>0.0</td>\n",
       "      <td>85.0</td>\n",
       "      <td>7.80</td>\n",
       "      <td>0.0</td>\n",
       "      <td>105.0</td>\n",
       "      <td>10</td>\n",
       "      <td>normo</td>\n",
       "      <td>hyper</td>\n",
       "    </tr>\n",
       "  </tbody>\n",
       "</table>\n",
       "</div>"
      ],
      "text/plain": [
       "                     activeInsulin  carbs  insulin  trend  glycaemia  hour  \\\n",
       "dateTime                                                                     \n",
       "2019-02-07 09:24:00            0.0   30.0     3.75    0.0      184.0     9   \n",
       "2019-02-07 12:53:00            0.0   56.0     4.95    0.0      133.0    12   \n",
       "2019-02-07 17:39:00            0.0   12.0     1.00    0.0       99.0    17   \n",
       "2019-02-07 18:13:00            0.0   10.0     0.00    0.0      101.0    18   \n",
       "2019-02-09 10:52:00            0.0   85.0     7.80    0.0      105.0    10   \n",
       "\n",
       "                       tag postp tag  \n",
       "dateTime                              \n",
       "2019-02-07 09:24:00  hyper     hyper  \n",
       "2019-02-07 12:53:00  normo     hyper  \n",
       "2019-02-07 17:39:00  normo     normo  \n",
       "2019-02-07 18:13:00  normo     normo  \n",
       "2019-02-09 10:52:00  normo     hyper  "
      ]
     },
     "execution_count": 3,
     "metadata": {},
     "output_type": "execute_result"
    }
   ],
   "source": [
    "data.head()"
   ]
  },
  {
   "cell_type": "code",
   "execution_count": 4,
   "metadata": {},
   "outputs": [],
   "source": [
    "#X"
   ]
  },
  {
   "cell_type": "code",
   "execution_count": 5,
   "metadata": {},
   "outputs": [],
   "source": [
    "X2 = preprocessing.scale(X)"
   ]
  },
  {
   "cell_type": "code",
   "execution_count": 6,
   "metadata": {},
   "outputs": [],
   "source": [
    "#X2"
   ]
  },
  {
   "cell_type": "code",
   "execution_count": 7,
   "metadata": {},
   "outputs": [],
   "source": [
    "X_train, X_test, y_train, y_test = train_test_split(X2, y, random_state = 0) "
   ]
  },
  {
   "cell_type": "code",
   "execution_count": 8,
   "metadata": {},
   "outputs": [],
   "source": [
    "kf = KFold(n_splits=5, shuffle=False).split(y)"
   ]
  },
  {
   "cell_type": "code",
   "execution_count": 72,
   "metadata": {
    "scrolled": true
   },
   "outputs": [],
   "source": [
    "#print('Training', 7*'\\t', 'Testing')\n",
    "#for i, j in kf:\n",
    "#    print(f'{i[0:4]}... \\t{i[len(i)-5:len(i)]}, \\t{j}')"
   ]
  },
  {
   "cell_type": "code",
   "execution_count": null,
   "metadata": {},
   "outputs": [],
   "source": [
    "svm_model_linear  = SVC(kernel = 'linear', C = 1).fit(X_train, y_train) \n",
    "svm_model_rbf     = SVC(kernel = 'rbf', C = 1).fit(X_train, y_train) \n",
    "svm_model_sigmoid = SVC(kernel = 'sigmoid', C = 1).fit(X_train, y_train) \n",
    "svm_predictions   = svm_model_sigmoid.predict(X_test) "
   ]
  },
  {
   "cell_type": "code",
   "execution_count": 9,
   "metadata": {},
   "outputs": [],
   "source": [
    "kernels = ['linear', 'rbf', 'sigmoid']\n",
    "svc  = lambda x: SVC(kernel = x, C = 1, gamma = 'auto')\n",
    "SVMs = dict(\n",
    "    [(i, svc(i)) for i in kernels]\n",
    ")"
   ]
  },
  {
   "cell_type": "code",
   "execution_count": 10,
   "metadata": {},
   "outputs": [
    {
     "data": {
      "text/plain": [
       "{'linear': SVC(C=1, cache_size=200, class_weight=None, coef0=0.0,\n",
       "   decision_function_shape='ovr', degree=3, gamma='auto', kernel='linear',\n",
       "   max_iter=-1, probability=False, random_state=None, shrinking=True,\n",
       "   tol=0.001, verbose=False),\n",
       " 'rbf': SVC(C=1, cache_size=200, class_weight=None, coef0=0.0,\n",
       "   decision_function_shape='ovr', degree=3, gamma='auto', kernel='rbf',\n",
       "   max_iter=-1, probability=False, random_state=None, shrinking=True,\n",
       "   tol=0.001, verbose=False),\n",
       " 'sigmoid': SVC(C=1, cache_size=200, class_weight=None, coef0=0.0,\n",
       "   decision_function_shape='ovr', degree=3, gamma='auto', kernel='sigmoid',\n",
       "   max_iter=-1, probability=False, random_state=None, shrinking=True,\n",
       "   tol=0.001, verbose=False)}"
      ]
     },
     "execution_count": 10,
     "metadata": {},
     "output_type": "execute_result"
    }
   ],
   "source": [
    "SVMs"
   ]
  },
  {
   "cell_type": "code",
   "execution_count": 14,
   "metadata": {},
   "outputs": [],
   "source": [
    "sigmoid_cvl = cross_val_score(SVMs['sigmoid'], X2, y, scoring='accuracy', cv = 15)"
   ]
  },
  {
   "cell_type": "code",
   "execution_count": 29,
   "metadata": {},
   "outputs": [
    {
     "name": "stdout",
     "output_type": "stream",
     "text": [
      "Cross validation scores: \n",
      "Min: 0.5, Mean: 0.661, Max: 1.0\n"
     ]
    }
   ],
   "source": [
    "print(f'Cross validation scores: \\nMin: {sigmoid_cvl.min()}, Mean: {round(sigmoid_cvl.mean(),3)}, Max: {sigmoid_cvl.max()}')"
   ]
  },
  {
   "cell_type": "code",
   "execution_count": 16,
   "metadata": {},
   "outputs": [
    {
     "data": {
      "text/plain": [
       "<matplotlib.axes._subplots.AxesSubplot at 0x7f3c66af2908>"
      ]
     },
     "execution_count": 16,
     "metadata": {},
     "output_type": "execute_result"
    },
    {
     "data": {
      "image/png": "[encoded data removed]",
      "text/plain": [
       "<Figure size 432x288 with 1 Axes>"
      ]
     },
     "metadata": {
      "needs_background": "light"
     },
     "output_type": "display_data"
    }
   ],
   "source": [
    "sb.distplot(sigmoid_cvl)"
   ]
  },
  {
   "cell_type": "code",
   "execution_count": 24,
   "metadata": {},
   "outputs": [
    {
     "data": {
      "text/plain": [
       "'\\nlinear_accuracy = svm_model_linear.score(X_test, y_test) \\nsbf_accuracy = svm_model_rbf.score(X_test, y_test) \\nsigmoid_accuracy = svm_model_sigmoid.score(X_test, y_test) \\n\\n\\n# creating a confusion matrix \\ncm = confusion_matrix(y_test, svm_predictions) \\n'"
      ]
     },
     "execution_count": 24,
     "metadata": {},
     "output_type": "execute_result"
    }
   ],
   "source": [
    "## model accuracy for X_test (on a train_test_split scheme)\n",
    "'''\n",
    "linear_accuracy = svm_model_linear.score(X_test, y_test) \n",
    "sbf_accuracy = svm_model_rbf.score(X_test, y_test) \n",
    "sigmoid_accuracy = svm_model_sigmoid.score(X_test, y_test) \n",
    "\n",
    "\n",
    "# creating a confusion matrix \n",
    "cm = confusion_matrix(y_test, svm_predictions) \n",
    "'''"
   ]
  },
  {
   "cell_type": "code",
   "execution_count": 20,
   "metadata": {},
   "outputs": [],
   "source": [
    "#linear_accuracy"
   ]
  },
  {
   "cell_type": "code",
   "execution_count": 21,
   "metadata": {},
   "outputs": [],
   "source": [
    "#sbf_accuracy"
   ]
  },
  {
   "cell_type": "code",
   "execution_count": 22,
   "metadata": {},
   "outputs": [],
   "source": [
    "#sigmoid_accuracy"
   ]
  },
  {
   "cell_type": "code",
   "execution_count": 19,
   "metadata": {},
   "outputs": [],
   "source": [
    "#cm"
   ]
  },
  {
   "cell_type": "code",
   "execution_count": 18,
   "metadata": {},
   "outputs": [],
   "source": [
    "#data"
   ]
  },
  {
   "cell_type": "code",
   "execution_count": 17,
   "metadata": {},
   "outputs": [],
   "source": [
    "#scaled_data = preprocessing.scale(data)\n",
    "#plot = pd.core.frame.DataFrame(index=data['postp tag'])\n",
    "#for i in data:\n",
    "#    plot[i] = data[i]\n",
    "#plot['lol'] = list(data['activeInsulin'])"
   ]
  },
  {
   "cell_type": "code",
   "execution_count": null,
   "metadata": {},
   "outputs": [],
   "source": []
  },
  {
   "cell_type": "code",
   "execution_count": null,
   "metadata": {},
   "outputs": [],
   "source": []
  }
 ],
 "metadata": {
  "kernelspec": {
   "display_name": "Python [conda env:DiabManager]",
   "language": "python",
   "name": "conda-env-DiabManager-py"
  },
  "language_info": {
   "codemirror_mode": {
    "name": "ipython",
    "version": 3
   },
   "file_extension": ".py",
   "mimetype": "text/x-python",
   "name": "python",
   "nbconvert_exporter": "python",
   "pygments_lexer": "ipython3",
   "version": "3.6.8"
  }
 },
 "nbformat": 4,
 "nbformat_minor": 2
}
